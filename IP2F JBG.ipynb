{
 "cells": [
  {
   "cell_type": "markdown",
   "id": "e38e1ce9",
   "metadata": {},
   "source": [
    "# Programming assignment 8\n",
    "## Joey Guthrie, Version 1, CS150 Spring 2023"
   ]
  },
  {
   "cell_type": "code",
   "execution_count": 2,
   "id": "80ff0dc3",
   "metadata": {},
   "outputs": [],
   "source": [
    "import numpy as np\n",
    "import math"
   ]
  },
  {
   "cell_type": "code",
   "execution_count": 3,
   "id": "3ffb0543",
   "metadata": {},
   "outputs": [
    {
     "name": "stdout",
     "output_type": "stream",
     "text": [
      "[[ 100  400]\n",
      " [ 900 1600]]\n",
      "[[110 120]\n",
      " [130 140]]\n",
      "[[ 50 100]\n",
      " [150 200]]\n",
      "[[3.16227766 4.47213595]\n",
      " [5.47722558 6.32455532]]\n"
     ]
    }
   ],
   "source": [
    "a=np.array([[10,20],\n",
    "            [30,40]])\n",
    "           \n",
    "    \n",
    "b=2\n",
    "c=np.array([100,100])\n",
    "d=5\n",
    "print(a**b)\n",
    "print(a+c)\n",
    "print(a*d)\n",
    "print(np.sqrt(a))"
   ]
  },
  {
   "cell_type": "code",
   "execution_count": 18,
   "id": "dcf42416",
   "metadata": {},
   "outputs": [],
   "source": [
    "triplearray=np.arange(3,28,3)\n",
    "array1=triplearray.reshape(3,3)\n",
    "tentotwentyarray=np.linspace(10,20,9)\n",
    "array2=tentotwentyarray.reshape(3,3)"
   ]
  },
  {
   "cell_type": "code",
   "execution_count": 20,
   "id": "9131b7a8",
   "metadata": {},
   "outputs": [
    {
     "name": "stdout",
     "output_type": "stream",
     "text": [
      "[[ 3  6  9]\n",
      " [12 15 18]\n",
      " [21 24 27]]\n",
      "[[10.   11.25 12.5 ]\n",
      " [13.75 15.   16.25]\n",
      " [17.5  18.75 20.  ]]\n",
      "[[ 30.   67.5 112.5]\n",
      " [165.  225.  292.5]\n",
      " [367.5 450.  540. ]]\n"
     ]
    }
   ],
   "source": [
    "print(array1)\n",
    "print(array2)\n",
    "print(array1*array2)"
   ]
  },
  {
   "cell_type": "code",
   "execution_count": 24,
   "id": "1aac2fcf",
   "metadata": {},
   "outputs": [
    {
     "data": {
      "text/plain": [
       "array([[52, 12, 81,  0, 58],\n",
       "       [96,  4, 61, 16, 43],\n",
       "       [38, 96, 45, 17, 58],\n",
       "       [97, 21, 22, 25,  6],\n",
       "       [77,  6, 19,  2, 74]])"
      ]
     },
     "execution_count": 24,
     "metadata": {},
     "output_type": "execute_result"
    }
   ],
   "source": [
    "x1=np.load('process1.npy')\n",
    "x2=np.load('process2.npy')\n",
    "x3=np.load('process3.npy')\n",
    "x4=np.load('process4.npy')\n",
    "x5=np.load('process5.npy')\n",
    "mergePhaseOne=np.concatenate([x1,x2])\n",
    "mergePhaseTwo=np.concatenate([mergePhaseOne,x3])\n",
    "mergePhaseThree=np.concatenate([mergePhaseTwo,x4])\n",
    "gestalt=np.concatenate([mergePhaseThree,x5])\n",
    "gestalt"
   ]
  },
  {
   "cell_type": "code",
   "execution_count": 26,
   "id": "8b0b682c",
   "metadata": {},
   "outputs": [
    {
     "name": "stdout",
     "output_type": "stream",
     "text": [
      "72.0\n",
      "27.8\n",
      "45.6\n",
      "12.0\n",
      "47.8\n"
     ]
    }
   ],
   "source": [
    "print(np.mean(gestalt[:,0]))\n",
    "print(np.mean(gestalt[:,1]))\n",
    "print(np.mean(gestalt[:,2]))\n",
    "print(np.mean(gestalt[:,3]))\n",
    "print(np.mean(gestalt[:,4]))"
   ]
  },
  {
   "cell_type": "code",
   "execution_count": null,
   "id": "3f3460ab",
   "metadata": {},
   "outputs": [],
   "source": []
  },
  {
   "cell_type": "code",
   "execution_count": null,
   "id": "9bdb3b23",
   "metadata": {},
   "outputs": [],
   "source": []
  },
  {
   "cell_type": "code",
   "execution_count": null,
   "id": "0e6488cd",
   "metadata": {},
   "outputs": [],
   "source": []
  },
  {
   "cell_type": "code",
   "execution_count": null,
   "id": "3a9fd25e",
   "metadata": {},
   "outputs": [],
   "source": []
  },
  {
   "cell_type": "code",
   "execution_count": null,
   "id": "96519354",
   "metadata": {},
   "outputs": [],
   "source": []
  },
  {
   "cell_type": "code",
   "execution_count": null,
   "id": "1d03da76",
   "metadata": {},
   "outputs": [],
   "source": []
  },
  {
   "cell_type": "code",
   "execution_count": null,
   "id": "70e23bc6",
   "metadata": {},
   "outputs": [],
   "source": []
  },
  {
   "cell_type": "code",
   "execution_count": null,
   "id": "ebf0f013",
   "metadata": {},
   "outputs": [],
   "source": []
  },
  {
   "cell_type": "code",
   "execution_count": null,
   "id": "a1564a00",
   "metadata": {},
   "outputs": [],
   "source": []
  }
 ],
 "metadata": {
  "kernelspec": {
   "display_name": "Python 3 (ipykernel)",
   "language": "python",
   "name": "python3"
  },
  "language_info": {
   "codemirror_mode": {
    "name": "ipython",
    "version": 3
   },
   "file_extension": ".py",
   "mimetype": "text/x-python",
   "name": "python",
   "nbconvert_exporter": "python",
   "pygments_lexer": "ipython3",
   "version": "3.9.13"
  }
 },
 "nbformat": 4,
 "nbformat_minor": 5
}
